{
 "cells": [
  {
   "cell_type": "code",
   "execution_count": 1,
   "id": "a9883b6a",
   "metadata": {},
   "outputs": [],
   "source": [
    "import spacy"
   ]
  },
  {
   "cell_type": "code",
   "execution_count": 2,
   "id": "f382bb27",
   "metadata": {},
   "outputs": [],
   "source": [
    "nlp = spacy.load('en_core_web_sm')"
   ]
  },
  {
   "cell_type": "code",
   "execution_count": 3,
   "id": "dfe53303",
   "metadata": {},
   "outputs": [
    {
     "name": "stdout",
     "output_type": "stream",
     "text": [
      "{'are', '‘ve', '’d', 'afterwards', 'those', 'being', 'beside', 'third', 'hereafter', 'wherever', 'me', 'once', 'hereupon', '‘d', 'before', 'where', 'used', 'could', 'eleven', 'this', 'and', 'however', 'noone', 'them', 'show', 'about', 'top', 'thereafter', 'without', 'when', 'down', 'behind', 'nothing', 'by', 'among', 'few', 'as', 'wherein', 'even', 'seeming', 'above', 'ours', 'say', 'name', 'sometime', 'further', 'what', 'well', 'another', 'hereby', 'themselves', 'last', 'give', 'of', 'formerly', 'five', 'next', 'been', 'fifteen', 'anyhow', 'least', 'again', 'a', 'whereafter', 'due', 'across', 'some', 'am', 'but', 'therein', 'same', 'enough', 'serious', 'quite', 'take', 'whenever', 'also', 'my', 'his', 'up', 'might', 'moreover', \"'d\", 'herself', 'her', 'under', 'within', 'whereupon', 'done', 'latterly', 'until', 'really', 'it', 'from', 'side', 'were', 'hence', 'others', 'namely', 'get', 'two', 'always', 'someone', 'we', 'more', 'is', 'other', 'becomes', 'three', 'whoever', 'forty', 'back', 'into', 'make', 'much', \"'ve\", 'who', 'such', 'there', 'yours', 'on', 'he', 'put', 'one', 'below', '’ve', 'nor', 'was', 'thru', 'nevertheless', 'over', 'somewhere', 'eight', 'does', 'together', 'many', 'how', \"'re\", 'still', 'therefore', 'did', 'must', 'perhaps', 'at', 'throughout', 'through', 'just', 'to', 'against', '‘ll', 'empty', 'whither', 'its', 'indeed', 'with', 'off', 'will', '’s', 'the', 'can', 'him', 'why', 'hundred', 'six', 'except', 'because', '’m', 'often', 'than', 'would', 'not', \"'ll\", 'per', 'itself', 'himself', 'myself', 'becoming', 'hers', 'your', 'anything', 'whatever', 'every', 'less', 'upon', 'part', 'n‘t', 'should', 'nine', 'made', '’ll', 'do', 'none', 'mostly', \"'m\", 'whom', 'call', 'ourselves', 'thereby', 'since', 'their', 'front', 'become', '’re', 'keep', 'own', 'already', 'in', 'you', 'go', 'rather', 'thence', 'i', 'everything', 'around', 'meanwhile', 'they', 'something', 'somehow', 'so', 'here', 'elsewhere', 'thus', 'mine', 'now', \"'s\", '‘re', 'anyway', 'using', 'whereas', 'sometimes', 'any', 'whence', 'although', 'unless', 'whereby', 'several', 'an', 'via', 'along', 'our', \"n't\", 'though', 'after', 'amongst', 'ever', 'out', 'beyond', 'if', 'anyone', 'most', 'may', 'four', 'anywhere', 'has', 'only', 'each', 'yourselves', 'various', 'doing', 'see', 'beforehand', 'almost', 'whether', 'ca', 'that', 'besides', 'between', 'then', 'seem', 'else', 'these', 'neither', 'seemed', 'became', 'or', 'toward', 'whose', 'had', 'alone', 'which', 'all', 'no', 'both', 'n’t', 're', 'seems', 'sixty', 'former', 'otherwise', 'us', 'latter', '‘m', 'either', 'please', 'yourself', 'fifty', 'everywhere', 'twenty', 'move', 'while', 'thereupon', 'full', 'never', 'too', 'during', 'have', 'amount', 'first', 'nowhere', 'regarding', 'bottom', 'for', '‘s', 'onto', 'nobody', 'be', 'everyone', 'herein', 'cannot', 'twelve', 'towards', 'yet', 'ten', 'she', 'very', 'whole'}\n"
     ]
    }
   ],
   "source": [
    "print(nlp.Defaults.stop_words)"
   ]
  },
  {
   "cell_type": "code",
   "execution_count": 4,
   "id": "b0c4835f",
   "metadata": {},
   "outputs": [
    {
     "data": {
      "text/plain": [
       "326"
      ]
     },
     "execution_count": 4,
     "metadata": {},
     "output_type": "execute_result"
    }
   ],
   "source": [
    "len(nlp.Defaults.stop_words)"
   ]
  },
  {
   "cell_type": "code",
   "execution_count": 7,
   "id": "cd9e43df",
   "metadata": {},
   "outputs": [
    {
     "data": {
      "text/plain": [
       "False"
      ]
     },
     "execution_count": 7,
     "metadata": {},
     "output_type": "execute_result"
    }
   ],
   "source": [
    "nlp.vocab['mystery'].is_stop"
   ]
  },
  {
   "cell_type": "code",
   "execution_count": 8,
   "id": "436498c6",
   "metadata": {},
   "outputs": [],
   "source": [
    "nlp.Defaults.stop_words.add('btw')"
   ]
  },
  {
   "cell_type": "code",
   "execution_count": 9,
   "id": "f21874ae",
   "metadata": {},
   "outputs": [
    {
     "data": {
      "text/plain": [
       "True"
      ]
     },
     "execution_count": 9,
     "metadata": {},
     "output_type": "execute_result"
    }
   ],
   "source": [
    "nlp.vocab['btw'].is_stop"
   ]
  },
  {
   "cell_type": "code",
   "execution_count": 11,
   "id": "d15edfbc",
   "metadata": {},
   "outputs": [
    {
     "data": {
      "text/plain": [
       "327"
      ]
     },
     "execution_count": 11,
     "metadata": {},
     "output_type": "execute_result"
    }
   ],
   "source": [
    "len(nlp.Defaults.stop_words)"
   ]
  },
  {
   "cell_type": "code",
   "execution_count": 12,
   "id": "f9f8c658",
   "metadata": {},
   "outputs": [],
   "source": [
    "nlp.Defaults.stop_words.remove('beyond')"
   ]
  },
  {
   "cell_type": "code",
   "execution_count": 13,
   "id": "84feb098",
   "metadata": {},
   "outputs": [
    {
     "data": {
      "text/plain": [
       "False"
      ]
     },
     "execution_count": 13,
     "metadata": {},
     "output_type": "execute_result"
    }
   ],
   "source": [
    "nlp.vocab['beyond'].is_stop"
   ]
  },
  {
   "cell_type": "code",
   "execution_count": null,
   "id": "753e2471",
   "metadata": {},
   "outputs": [],
   "source": []
  }
 ],
 "metadata": {
  "kernelspec": {
   "display_name": "Python 3 (ipykernel)",
   "language": "python",
   "name": "python3"
  },
  "language_info": {
   "codemirror_mode": {
    "name": "ipython",
    "version": 3
   },
   "file_extension": ".py",
   "mimetype": "text/x-python",
   "name": "python",
   "nbconvert_exporter": "python",
   "pygments_lexer": "ipython3",
   "version": "3.7.16"
  }
 },
 "nbformat": 4,
 "nbformat_minor": 5
}
